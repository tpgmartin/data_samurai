{
 "cells": [
  {
   "cell_type": "markdown",
   "metadata": {},
   "source": [
    "# Data Samurai - Tom Martin"
   ]
  },
  {
   "cell_type": "code",
   "execution_count": 1,
   "metadata": {
    "collapsed": true
   },
   "outputs": [],
   "source": [
    "import numpy as np\n",
    "import pandas as pd\n",
    "import scipy.stats as stats\n",
    "from sklearn.feature_selection import chi2, SelectKBest\n",
    "from sklearn.linear_model import LogisticRegression\n",
    "from sklearn.metrics import precision_recall_fscore_support\n",
    "from sklearn.model_selection import train_test_split\n",
    "from sklearn.pipeline import make_pipeline\n",
    "from sklearn.preprocessing import MinMaxScaler\n",
    "from statsmodels.stats.proportion import proportions_ztest"
   ]
  },
  {
   "cell_type": "markdown",
   "metadata": {},
   "source": [
    "## EDA\n",
    "\n",
    "These first steps are just to understand the provided datasets, what values they have, and whether there are any null values. I like to check the head and tails of each dataframe to determine if there are any formatting issues."
   ]
  },
  {
   "cell_type": "code",
   "execution_count": 2,
   "metadata": {
    "collapsed": true
   },
   "outputs": [],
   "source": [
    "calls = pd.read_csv(\"./data/calls.csv\")\n",
    "leads = pd.read_csv(\"./data/leads.csv\")\n",
    "signups = pd.read_csv(\"./data/signups.csv\")"
   ]
  },
  {
   "cell_type": "code",
   "execution_count": 3,
   "metadata": {
    "scrolled": true
   },
   "outputs": [
    {
     "data": {
      "text/html": [
       "<div>\n",
       "<style scoped>\n",
       "    .dataframe tbody tr th:only-of-type {\n",
       "        vertical-align: middle;\n",
       "    }\n",
       "\n",
       "    .dataframe tbody tr th {\n",
       "        vertical-align: top;\n",
       "    }\n",
       "\n",
       "    .dataframe thead th {\n",
       "        text-align: right;\n",
       "    }\n",
       "</style>\n",
       "<table border=\"1\" class=\"dataframe\">\n",
       "  <thead>\n",
       "    <tr style=\"text-align: right;\">\n",
       "      <th></th>\n",
       "      <th>Phone Number</th>\n",
       "      <th>Call Outcome</th>\n",
       "      <th>Agent</th>\n",
       "      <th>Call Number</th>\n",
       "    </tr>\n",
       "  </thead>\n",
       "  <tbody>\n",
       "    <tr>\n",
       "      <th>0</th>\n",
       "      <td>83473306392</td>\n",
       "      <td>NOT INTERESTED</td>\n",
       "      <td>orange</td>\n",
       "      <td>0</td>\n",
       "    </tr>\n",
       "    <tr>\n",
       "      <th>1</th>\n",
       "      <td>762850680150</td>\n",
       "      <td>CALL BACK LATER</td>\n",
       "      <td>orange</td>\n",
       "      <td>1</td>\n",
       "    </tr>\n",
       "    <tr>\n",
       "      <th>2</th>\n",
       "      <td>476309275079</td>\n",
       "      <td>NOT INTERESTED</td>\n",
       "      <td>orange</td>\n",
       "      <td>2</td>\n",
       "    </tr>\n",
       "    <tr>\n",
       "      <th>3</th>\n",
       "      <td>899921761538</td>\n",
       "      <td>CALL BACK LATER</td>\n",
       "      <td>red</td>\n",
       "      <td>3</td>\n",
       "    </tr>\n",
       "    <tr>\n",
       "      <th>4</th>\n",
       "      <td>906739234066</td>\n",
       "      <td>CALL BACK LATER</td>\n",
       "      <td>orange</td>\n",
       "      <td>4</td>\n",
       "    </tr>\n",
       "  </tbody>\n",
       "</table>\n",
       "</div>"
      ],
      "text/plain": [
       "   Phone Number     Call Outcome   Agent  Call Number\n",
       "0   83473306392   NOT INTERESTED  orange            0\n",
       "1  762850680150  CALL BACK LATER  orange            1\n",
       "2  476309275079   NOT INTERESTED  orange            2\n",
       "3  899921761538  CALL BACK LATER     red            3\n",
       "4  906739234066  CALL BACK LATER  orange            4"
      ]
     },
     "execution_count": 3,
     "metadata": {},
     "output_type": "execute_result"
    }
   ],
   "source": [
    "calls.head()"
   ]
  },
  {
   "cell_type": "code",
   "execution_count": 4,
   "metadata": {},
   "outputs": [
    {
     "data": {
      "text/html": [
       "<div>\n",
       "<style scoped>\n",
       "    .dataframe tbody tr th:only-of-type {\n",
       "        vertical-align: middle;\n",
       "    }\n",
       "\n",
       "    .dataframe tbody tr th {\n",
       "        vertical-align: top;\n",
       "    }\n",
       "\n",
       "    .dataframe thead th {\n",
       "        text-align: right;\n",
       "    }\n",
       "</style>\n",
       "<table border=\"1\" class=\"dataframe\">\n",
       "  <thead>\n",
       "    <tr style=\"text-align: right;\">\n",
       "      <th></th>\n",
       "      <th>Phone Number</th>\n",
       "      <th>Call Outcome</th>\n",
       "      <th>Agent</th>\n",
       "      <th>Call Number</th>\n",
       "    </tr>\n",
       "  </thead>\n",
       "  <tbody>\n",
       "    <tr>\n",
       "      <th>4995</th>\n",
       "      <td>636020617927</td>\n",
       "      <td>CALL BACK LATER</td>\n",
       "      <td>orange</td>\n",
       "      <td>4995</td>\n",
       "    </tr>\n",
       "    <tr>\n",
       "      <th>4996</th>\n",
       "      <td>716436659171</td>\n",
       "      <td>NOT INTERESTED</td>\n",
       "      <td>orange</td>\n",
       "      <td>4996</td>\n",
       "    </tr>\n",
       "    <tr>\n",
       "      <th>4997</th>\n",
       "      <td>591005517672</td>\n",
       "      <td>CALL BACK LATER</td>\n",
       "      <td>red</td>\n",
       "      <td>4997</td>\n",
       "    </tr>\n",
       "    <tr>\n",
       "      <th>4998</th>\n",
       "      <td>583289319218</td>\n",
       "      <td>ANSWER MACHINE</td>\n",
       "      <td>black</td>\n",
       "      <td>4998</td>\n",
       "    </tr>\n",
       "    <tr>\n",
       "      <th>4999</th>\n",
       "      <td>860326177102</td>\n",
       "      <td>ANSWER MACHINE</td>\n",
       "      <td>orange</td>\n",
       "      <td>4999</td>\n",
       "    </tr>\n",
       "  </tbody>\n",
       "</table>\n",
       "</div>"
      ],
      "text/plain": [
       "      Phone Number     Call Outcome   Agent  Call Number\n",
       "4995  636020617927  CALL BACK LATER  orange         4995\n",
       "4996  716436659171   NOT INTERESTED  orange         4996\n",
       "4997  591005517672  CALL BACK LATER     red         4997\n",
       "4998  583289319218   ANSWER MACHINE   black         4998\n",
       "4999  860326177102   ANSWER MACHINE  orange         4999"
      ]
     },
     "execution_count": 4,
     "metadata": {},
     "output_type": "execute_result"
    }
   ],
   "source": [
    "calls.tail()"
   ]
  },
  {
   "cell_type": "code",
   "execution_count": 5,
   "metadata": {},
   "outputs": [
    {
     "data": {
      "text/plain": [
       "CALL BACK LATER    1816\n",
       "INTERESTED         1296\n",
       "NOT INTERESTED     1211\n",
       "ANSWER MACHINE      514\n",
       "DEAD LINE           163\n",
       "Name: Call Outcome, dtype: int64"
      ]
     },
     "execution_count": 5,
     "metadata": {},
     "output_type": "execute_result"
    }
   ],
   "source": [
    "# Calls have a many-to-one relationship with leads/agents\n",
    "# Calls can have one of five different outcomes\n",
    "calls[\"Call Outcome\"].value_counts()"
   ]
  },
  {
   "cell_type": "code",
   "execution_count": 6,
   "metadata": {},
   "outputs": [
    {
     "data": {
      "text/plain": [
       "5000"
      ]
     },
     "execution_count": 6,
     "metadata": {},
     "output_type": "execute_result"
    }
   ],
   "source": [
    "# Rows in calls table uniquely determined by call number\n",
    "calls[\"Call Number\"].unique().size"
   ]
  },
  {
   "cell_type": "code",
   "execution_count": 7,
   "metadata": {},
   "outputs": [
    {
     "data": {
      "text/html": [
       "<div>\n",
       "<style scoped>\n",
       "    .dataframe tbody tr th:only-of-type {\n",
       "        vertical-align: middle;\n",
       "    }\n",
       "\n",
       "    .dataframe tbody tr th {\n",
       "        vertical-align: top;\n",
       "    }\n",
       "\n",
       "    .dataframe thead th {\n",
       "        text-align: right;\n",
       "    }\n",
       "</style>\n",
       "<table border=\"1\" class=\"dataframe\">\n",
       "  <thead>\n",
       "    <tr style=\"text-align: right;\">\n",
       "      <th></th>\n",
       "      <th>Name</th>\n",
       "      <th>Phone Number</th>\n",
       "      <th>Region</th>\n",
       "      <th>Sector</th>\n",
       "      <th>Age</th>\n",
       "    </tr>\n",
       "  </thead>\n",
       "  <tbody>\n",
       "    <tr>\n",
       "      <th>0</th>\n",
       "      <td>Isabela MEZA</td>\n",
       "      <td>175718505368</td>\n",
       "      <td>north-west</td>\n",
       "      <td>wholesale</td>\n",
       "      <td>19</td>\n",
       "    </tr>\n",
       "    <tr>\n",
       "      <th>1</th>\n",
       "      <td>Deangelo LEE</td>\n",
       "      <td>937521423043</td>\n",
       "      <td>north-west</td>\n",
       "      <td>retail</td>\n",
       "      <td>38</td>\n",
       "    </tr>\n",
       "    <tr>\n",
       "      <th>2</th>\n",
       "      <td>Rosia MENDEZ</td>\n",
       "      <td>403640999962</td>\n",
       "      <td>midlands</td>\n",
       "      <td>agriculture</td>\n",
       "      <td>40</td>\n",
       "    </tr>\n",
       "    <tr>\n",
       "      <th>3</th>\n",
       "      <td>Jeremiah GALLOWAY</td>\n",
       "      <td>946740713605</td>\n",
       "      <td>scotland</td>\n",
       "      <td>food</td>\n",
       "      <td>23</td>\n",
       "    </tr>\n",
       "    <tr>\n",
       "      <th>4</th>\n",
       "      <td>Sarah POPE</td>\n",
       "      <td>264176984341</td>\n",
       "      <td>midlands</td>\n",
       "      <td>retail</td>\n",
       "      <td>18</td>\n",
       "    </tr>\n",
       "  </tbody>\n",
       "</table>\n",
       "</div>"
      ],
      "text/plain": [
       "                Name  Phone Number      Region       Sector  Age\n",
       "0       Isabela MEZA  175718505368  north-west    wholesale   19\n",
       "1       Deangelo LEE  937521423043  north-west       retail   38\n",
       "2       Rosia MENDEZ  403640999962    midlands  agriculture   40\n",
       "3  Jeremiah GALLOWAY  946740713605    scotland         food   23\n",
       "4         Sarah POPE  264176984341    midlands       retail   18"
      ]
     },
     "execution_count": 7,
     "metadata": {},
     "output_type": "execute_result"
    }
   ],
   "source": [
    "leads.head()"
   ]
  },
  {
   "cell_type": "code",
   "execution_count": 8,
   "metadata": {},
   "outputs": [
    {
     "data": {
      "text/html": [
       "<div>\n",
       "<style scoped>\n",
       "    .dataframe tbody tr th:only-of-type {\n",
       "        vertical-align: middle;\n",
       "    }\n",
       "\n",
       "    .dataframe tbody tr th {\n",
       "        vertical-align: top;\n",
       "    }\n",
       "\n",
       "    .dataframe thead th {\n",
       "        text-align: right;\n",
       "    }\n",
       "</style>\n",
       "<table border=\"1\" class=\"dataframe\">\n",
       "  <thead>\n",
       "    <tr style=\"text-align: right;\">\n",
       "      <th></th>\n",
       "      <th>Name</th>\n",
       "      <th>Phone Number</th>\n",
       "      <th>Region</th>\n",
       "      <th>Sector</th>\n",
       "      <th>Age</th>\n",
       "    </tr>\n",
       "  </thead>\n",
       "  <tbody>\n",
       "    <tr>\n",
       "      <th>9989</th>\n",
       "      <td>Anjanette MENDEZ</td>\n",
       "      <td>203652895277</td>\n",
       "      <td>midlands</td>\n",
       "      <td>wholesale</td>\n",
       "      <td>55</td>\n",
       "    </tr>\n",
       "    <tr>\n",
       "      <th>9990</th>\n",
       "      <td>Michele TRAN</td>\n",
       "      <td>572582587665</td>\n",
       "      <td>midlands</td>\n",
       "      <td>retail</td>\n",
       "      <td>38</td>\n",
       "    </tr>\n",
       "    <tr>\n",
       "      <th>9991</th>\n",
       "      <td>Jeannette ROBERSON</td>\n",
       "      <td>744364544246</td>\n",
       "      <td>south-west</td>\n",
       "      <td>retail</td>\n",
       "      <td>52</td>\n",
       "    </tr>\n",
       "    <tr>\n",
       "      <th>9992</th>\n",
       "      <td>Keaton BARRY</td>\n",
       "      <td>527132861814</td>\n",
       "      <td>north-west</td>\n",
       "      <td>retail</td>\n",
       "      <td>30</td>\n",
       "    </tr>\n",
       "    <tr>\n",
       "      <th>9993</th>\n",
       "      <td>Dallas MOSLEY</td>\n",
       "      <td>450781977953</td>\n",
       "      <td>south</td>\n",
       "      <td>food</td>\n",
       "      <td>97</td>\n",
       "    </tr>\n",
       "  </tbody>\n",
       "</table>\n",
       "</div>"
      ],
      "text/plain": [
       "                    Name  Phone Number      Region     Sector  Age\n",
       "9989    Anjanette MENDEZ  203652895277    midlands  wholesale   55\n",
       "9990        Michele TRAN  572582587665    midlands     retail   38\n",
       "9991  Jeannette ROBERSON  744364544246  south-west     retail   52\n",
       "9992        Keaton BARRY  527132861814  north-west     retail   30\n",
       "9993       Dallas MOSLEY  450781977953       south       food   97"
      ]
     },
     "execution_count": 8,
     "metadata": {},
     "output_type": "execute_result"
    }
   ],
   "source": [
    "leads.tail()"
   ]
  },
  {
   "cell_type": "code",
   "execution_count": 9,
   "metadata": {},
   "outputs": [
    {
     "data": {
      "text/plain": [
       "(9994, 5)"
      ]
     },
     "execution_count": 9,
     "metadata": {},
     "output_type": "execute_result"
    }
   ],
   "source": [
    "leads.shape"
   ]
  },
  {
   "cell_type": "code",
   "execution_count": 10,
   "metadata": {},
   "outputs": [
    {
     "data": {
      "text/plain": [
       "9994"
      ]
     },
     "execution_count": 10,
     "metadata": {},
     "output_type": "execute_result"
    }
   ],
   "source": [
    "# Rows in leads table uniquely determined by phone number\n",
    "leads[\"Phone Number\"].unique().size"
   ]
  },
  {
   "cell_type": "code",
   "execution_count": 11,
   "metadata": {},
   "outputs": [
    {
     "data": {
      "text/plain": [
       "(768, 2)"
      ]
     },
     "execution_count": 11,
     "metadata": {},
     "output_type": "execute_result"
    }
   ],
   "source": [
    "signups.shape"
   ]
  },
  {
   "cell_type": "code",
   "execution_count": 12,
   "metadata": {},
   "outputs": [
    {
     "data": {
      "text/plain": [
       "768"
      ]
     },
     "execution_count": 12,
     "metadata": {},
     "output_type": "execute_result"
    }
   ],
   "source": [
    "# Rows in signups table uniquely determined by lead name\n",
    "signups[\"Lead\"].unique().size"
   ]
  },
  {
   "cell_type": "code",
   "execution_count": 13,
   "metadata": {},
   "outputs": [
    {
     "data": {
      "text/plain": [
       "REJECTED    511\n",
       "APPROVED    257\n",
       "Name: Approval Decision, dtype: int64"
      ]
     },
     "execution_count": 13,
     "metadata": {},
     "output_type": "execute_result"
    }
   ],
   "source": [
    "signups[\"Approval Decision\"].value_counts()"
   ]
  },
  {
   "cell_type": "code",
   "execution_count": 14,
   "metadata": {},
   "outputs": [
    {
     "data": {
      "text/html": [
       "<div>\n",
       "<style scoped>\n",
       "    .dataframe tbody tr th:only-of-type {\n",
       "        vertical-align: middle;\n",
       "    }\n",
       "\n",
       "    .dataframe tbody tr th {\n",
       "        vertical-align: top;\n",
       "    }\n",
       "\n",
       "    .dataframe thead th {\n",
       "        text-align: right;\n",
       "    }\n",
       "</style>\n",
       "<table border=\"1\" class=\"dataframe\">\n",
       "  <thead>\n",
       "    <tr style=\"text-align: right;\">\n",
       "      <th></th>\n",
       "      <th>Lead</th>\n",
       "      <th>Approval Decision</th>\n",
       "    </tr>\n",
       "  </thead>\n",
       "  <tbody>\n",
       "    <tr>\n",
       "      <th>0</th>\n",
       "      <td>Tyree TERRY</td>\n",
       "      <td>APPROVED</td>\n",
       "    </tr>\n",
       "    <tr>\n",
       "      <th>1</th>\n",
       "      <td>Ansel WOOD</td>\n",
       "      <td>REJECTED</td>\n",
       "    </tr>\n",
       "    <tr>\n",
       "      <th>2</th>\n",
       "      <td>Ludwig DIAZ</td>\n",
       "      <td>APPROVED</td>\n",
       "    </tr>\n",
       "    <tr>\n",
       "      <th>3</th>\n",
       "      <td>Mack ARELLANO</td>\n",
       "      <td>APPROVED</td>\n",
       "    </tr>\n",
       "    <tr>\n",
       "      <th>4</th>\n",
       "      <td>Judy HENDRICKS</td>\n",
       "      <td>REJECTED</td>\n",
       "    </tr>\n",
       "  </tbody>\n",
       "</table>\n",
       "</div>"
      ],
      "text/plain": [
       "             Lead Approval Decision\n",
       "0     Tyree TERRY          APPROVED\n",
       "1      Ansel WOOD          REJECTED\n",
       "2     Ludwig DIAZ          APPROVED\n",
       "3   Mack ARELLANO          APPROVED\n",
       "4  Judy HENDRICKS          REJECTED"
      ]
     },
     "execution_count": 14,
     "metadata": {},
     "output_type": "execute_result"
    }
   ],
   "source": [
    "signups.head()"
   ]
  },
  {
   "cell_type": "code",
   "execution_count": 15,
   "metadata": {},
   "outputs": [
    {
     "data": {
      "text/html": [
       "<div>\n",
       "<style scoped>\n",
       "    .dataframe tbody tr th:only-of-type {\n",
       "        vertical-align: middle;\n",
       "    }\n",
       "\n",
       "    .dataframe tbody tr th {\n",
       "        vertical-align: top;\n",
       "    }\n",
       "\n",
       "    .dataframe thead th {\n",
       "        text-align: right;\n",
       "    }\n",
       "</style>\n",
       "<table border=\"1\" class=\"dataframe\">\n",
       "  <thead>\n",
       "    <tr style=\"text-align: right;\">\n",
       "      <th></th>\n",
       "      <th>Lead</th>\n",
       "      <th>Approval Decision</th>\n",
       "    </tr>\n",
       "  </thead>\n",
       "  <tbody>\n",
       "    <tr>\n",
       "      <th>763</th>\n",
       "      <td>April EATON</td>\n",
       "      <td>REJECTED</td>\n",
       "    </tr>\n",
       "    <tr>\n",
       "      <th>764</th>\n",
       "      <td>Kaycee BAXTER</td>\n",
       "      <td>REJECTED</td>\n",
       "    </tr>\n",
       "    <tr>\n",
       "      <th>765</th>\n",
       "      <td>Channing SOTO</td>\n",
       "      <td>APPROVED</td>\n",
       "    </tr>\n",
       "    <tr>\n",
       "      <th>766</th>\n",
       "      <td>August PACHECO</td>\n",
       "      <td>REJECTED</td>\n",
       "    </tr>\n",
       "    <tr>\n",
       "      <th>767</th>\n",
       "      <td>Lindsey DAVILA</td>\n",
       "      <td>APPROVED</td>\n",
       "    </tr>\n",
       "  </tbody>\n",
       "</table>\n",
       "</div>"
      ],
      "text/plain": [
       "               Lead Approval Decision\n",
       "763     April EATON          REJECTED\n",
       "764   Kaycee BAXTER          REJECTED\n",
       "765   Channing SOTO          APPROVED\n",
       "766  August PACHECO          REJECTED\n",
       "767  Lindsey DAVILA          APPROVED"
      ]
     },
     "execution_count": 15,
     "metadata": {},
     "output_type": "execute_result"
    }
   ],
   "source": [
    "signups.tail()"
   ]
  },
  {
   "cell_type": "code",
   "execution_count": 16,
   "metadata": {},
   "outputs": [
    {
     "name": "stdout",
     "output_type": "stream",
     "text": [
      "False\n",
      "False\n",
      "False\n"
     ]
    }
   ],
   "source": [
    "# check for null values\n",
    "print(calls.isnull().values.any())\n",
    "print(leads.isnull().values.any())\n",
    "print(signups.isnull().values.any())"
   ]
  },
  {
   "cell_type": "markdown",
   "metadata": {},
   "source": [
    "## Questions"
   ]
  },
  {
   "cell_type": "markdown",
   "metadata": {},
   "source": [
    "1 Which agent made the most calls? "
   ]
  },
  {
   "cell_type": "code",
   "execution_count": 17,
   "metadata": {},
   "outputs": [
    {
     "data": {
      "text/plain": [
       "Agent\n",
       "orange    2234\n",
       "red       1478\n",
       "black      750\n",
       "green      339\n",
       "blue       199\n",
       "Name: Call Number, dtype: int64"
      ]
     },
     "execution_count": 17,
     "metadata": {},
     "output_type": "execute_result"
    }
   ],
   "source": [
    "calls.groupby(\"Agent\")[\"Call Number\"].agg(\"count\").sort_values(ascending=False)"
   ]
  },
  {
   "cell_type": "markdown",
   "metadata": {},
   "source": [
    "Agent Orange made the most calls"
   ]
  },
  {
   "cell_type": "markdown",
   "metadata": {},
   "source": [
    "2 For the leads that received one or more calls, how many calls were received on average?"
   ]
  },
  {
   "cell_type": "code",
   "execution_count": 18,
   "metadata": {},
   "outputs": [
    {
     "data": {
      "text/plain": [
       "1.839587932303164"
      ]
     },
     "execution_count": 18,
     "metadata": {},
     "output_type": "execute_result"
    }
   ],
   "source": [
    "calls_leads = calls.merge(leads, on=\"Phone Number\", how='left')\n",
    "\n",
    "calls_leads.groupby(\"Phone Number\")[\"Call Number\"].agg(\"count\").mean()"
   ]
  },
  {
   "cell_type": "markdown",
   "metadata": {},
   "source": [
    "Average number of call received by leads is 1.84"
   ]
  },
  {
   "cell_type": "markdown",
   "metadata": {},
   "source": [
    "3 For the leads that signed up, how many calls were received, on average?"
   ]
  },
  {
   "cell_type": "code",
   "execution_count": 19,
   "metadata": {},
   "outputs": [
    {
     "data": {
      "text/html": [
       "<div>\n",
       "<style scoped>\n",
       "    .dataframe tbody tr th:only-of-type {\n",
       "        vertical-align: middle;\n",
       "    }\n",
       "\n",
       "    .dataframe tbody tr th {\n",
       "        vertical-align: top;\n",
       "    }\n",
       "\n",
       "    .dataframe thead th {\n",
       "        text-align: right;\n",
       "    }\n",
       "</style>\n",
       "<table border=\"1\" class=\"dataframe\">\n",
       "  <thead>\n",
       "    <tr style=\"text-align: right;\">\n",
       "      <th></th>\n",
       "      <th>Phone Number</th>\n",
       "      <th>Call Outcome</th>\n",
       "      <th>Agent</th>\n",
       "      <th>Call Number</th>\n",
       "      <th>Name</th>\n",
       "      <th>Region</th>\n",
       "      <th>Sector</th>\n",
       "      <th>Age</th>\n",
       "    </tr>\n",
       "  </thead>\n",
       "  <tbody>\n",
       "    <tr>\n",
       "      <th>0</th>\n",
       "      <td>83473306392</td>\n",
       "      <td>NOT INTERESTED</td>\n",
       "      <td>orange</td>\n",
       "      <td>0</td>\n",
       "      <td>Michell GUTIERREZ</td>\n",
       "      <td>wales</td>\n",
       "      <td>retail</td>\n",
       "      <td>50</td>\n",
       "    </tr>\n",
       "    <tr>\n",
       "      <th>1</th>\n",
       "      <td>762850680150</td>\n",
       "      <td>CALL BACK LATER</td>\n",
       "      <td>orange</td>\n",
       "      <td>1</td>\n",
       "      <td>Shanita FISHER</td>\n",
       "      <td>north-west</td>\n",
       "      <td>consultancy</td>\n",
       "      <td>23</td>\n",
       "    </tr>\n",
       "    <tr>\n",
       "      <th>2</th>\n",
       "      <td>476309275079</td>\n",
       "      <td>NOT INTERESTED</td>\n",
       "      <td>orange</td>\n",
       "      <td>2</td>\n",
       "      <td>Kaye DURAN</td>\n",
       "      <td>north-east</td>\n",
       "      <td>retail</td>\n",
       "      <td>34</td>\n",
       "    </tr>\n",
       "    <tr>\n",
       "      <th>3</th>\n",
       "      <td>899921761538</td>\n",
       "      <td>CALL BACK LATER</td>\n",
       "      <td>red</td>\n",
       "      <td>3</td>\n",
       "      <td>Barbie SALINAS</td>\n",
       "      <td>north-east</td>\n",
       "      <td>consultancy</td>\n",
       "      <td>23</td>\n",
       "    </tr>\n",
       "    <tr>\n",
       "      <th>4</th>\n",
       "      <td>906739234066</td>\n",
       "      <td>CALL BACK LATER</td>\n",
       "      <td>orange</td>\n",
       "      <td>4</td>\n",
       "      <td>Lisette NICHOLSON</td>\n",
       "      <td>south-west</td>\n",
       "      <td>food</td>\n",
       "      <td>25</td>\n",
       "    </tr>\n",
       "  </tbody>\n",
       "</table>\n",
       "</div>"
      ],
      "text/plain": [
       "   Phone Number     Call Outcome   Agent  Call Number               Name  \\\n",
       "0   83473306392   NOT INTERESTED  orange            0  Michell GUTIERREZ   \n",
       "1  762850680150  CALL BACK LATER  orange            1     Shanita FISHER   \n",
       "2  476309275079   NOT INTERESTED  orange            2         Kaye DURAN   \n",
       "3  899921761538  CALL BACK LATER     red            3     Barbie SALINAS   \n",
       "4  906739234066  CALL BACK LATER  orange            4  Lisette NICHOLSON   \n",
       "\n",
       "       Region       Sector  Age  \n",
       "0       wales       retail   50  \n",
       "1  north-west  consultancy   23  \n",
       "2  north-east       retail   34  \n",
       "3  north-east  consultancy   23  \n",
       "4  south-west         food   25  "
      ]
     },
     "execution_count": 19,
     "metadata": {},
     "output_type": "execute_result"
    }
   ],
   "source": [
    "calls_leads.head()"
   ]
  },
  {
   "cell_type": "code",
   "execution_count": 20,
   "metadata": {},
   "outputs": [
    {
     "data": {
      "text/plain": [
       "1.9961089494163424"
      ]
     },
     "execution_count": 20,
     "metadata": {},
     "output_type": "execute_result"
    }
   ],
   "source": [
    "all_data = pd.merge(calls_leads, signups, how=\"left\", left_on=\"Name\", right_on=\"Lead\")\n",
    "\n",
    "all_data[all_data[\"Approval Decision\"] == \"APPROVED\"].groupby(\"Phone Number\")[\"Call Number\"].agg(\"count\").mean()"
   ]
  },
  {
   "cell_type": "markdown",
   "metadata": {},
   "source": [
    "Average number of call received by leads that signed up is 1.996"
   ]
  },
  {
   "cell_type": "markdown",
   "metadata": {},
   "source": [
    "4 Which agent had the most signups? Which assumptions did you make? (note that there is a many-to-one relationship between calls and leads)"
   ]
  },
  {
   "cell_type": "code",
   "execution_count": 21,
   "metadata": {},
   "outputs": [
    {
     "name": "stdout",
     "output_type": "stream",
     "text": [
      "Number of signups is equal to number of calls with call outcome \"interested\"\n",
      "Number of calls to distinct leads 257\n",
      "Number of calls with call outcome \"interested\" 257\n"
     ]
    },
    {
     "data": {
      "text/plain": [
       "Agent\n",
       "red       117\n",
       "orange     93\n",
       "green      22\n",
       "blue       15\n",
       "black      10\n",
       "Name: Call Number, dtype: int64"
      ]
     },
     "execution_count": 21,
     "metadata": {},
     "output_type": "execute_result"
    }
   ],
   "source": [
    "# have two scenarios to consider:\n",
    "# (1) Lead only has one call with to a single agent\n",
    "# (2) Leads has multiple calls with either the same agent or multiple agents\n",
    "\n",
    "# Assumption: the agent who made the last (or in the case of (1) only) call to an lead is assigend that signup. \n",
    "# This is because it is the only easy way of unambiguously assigning a signup to an agent on a per-call basis.\n",
    "approved = all_data[all_data[\"Approval Decision\"] == \"APPROVED\"]\n",
    "\n",
    "# This is equivalent to assigning the signup to agent who's call has call outcome \"interested\"\n",
    "last_call = approved.sort_values([\"Phone Number\", \"Call Number\"]).drop_duplicates(subset=[\"Phone Number\"], keep=\"last\")\n",
    "\n",
    "print(\"Number of signups is equal to number of calls with call outcome \\\"interested\\\"\")\n",
    "print(\"Number of calls to distinct leads\", last_call[\"Call Outcome\"].value_counts()[0])\n",
    "print(\"Number of calls with call outcome \\\"interested\\\"\", approved[approved[\"Call Outcome\"] == \"INTERESTED\"].shape[0])\n",
    "\n",
    "last_call.groupby(\"Agent\")[\"Call Number\"].agg(\"count\").sort_values(ascending=False)"
   ]
  },
  {
   "cell_type": "markdown",
   "metadata": {},
   "source": [
    "Agent red had the most signups of 117."
   ]
  },
  {
   "cell_type": "markdown",
   "metadata": {},
   "source": [
    "5 Which agent had the most signups per call?"
   ]
  },
  {
   "cell_type": "code",
   "execution_count": 22,
   "metadata": {},
   "outputs": [
    {
     "data": {
      "text/html": [
       "<div>\n",
       "<style scoped>\n",
       "    .dataframe tbody tr th:only-of-type {\n",
       "        vertical-align: middle;\n",
       "    }\n",
       "\n",
       "    .dataframe tbody tr th {\n",
       "        vertical-align: top;\n",
       "    }\n",
       "\n",
       "    .dataframe thead th {\n",
       "        text-align: right;\n",
       "    }\n",
       "</style>\n",
       "<table border=\"1\" class=\"dataframe\">\n",
       "  <thead>\n",
       "    <tr style=\"text-align: right;\">\n",
       "      <th></th>\n",
       "      <th>Agent</th>\n",
       "      <th>signups</th>\n",
       "      <th>total</th>\n",
       "      <th>signups_per_call</th>\n",
       "    </tr>\n",
       "  </thead>\n",
       "  <tbody>\n",
       "    <tr>\n",
       "      <th>4</th>\n",
       "      <td>red</td>\n",
       "      <td>117</td>\n",
       "      <td>1478</td>\n",
       "      <td>0.079161</td>\n",
       "    </tr>\n",
       "    <tr>\n",
       "      <th>1</th>\n",
       "      <td>blue</td>\n",
       "      <td>15</td>\n",
       "      <td>199</td>\n",
       "      <td>0.075377</td>\n",
       "    </tr>\n",
       "    <tr>\n",
       "      <th>2</th>\n",
       "      <td>green</td>\n",
       "      <td>22</td>\n",
       "      <td>339</td>\n",
       "      <td>0.064897</td>\n",
       "    </tr>\n",
       "    <tr>\n",
       "      <th>3</th>\n",
       "      <td>orange</td>\n",
       "      <td>93</td>\n",
       "      <td>2234</td>\n",
       "      <td>0.041629</td>\n",
       "    </tr>\n",
       "    <tr>\n",
       "      <th>0</th>\n",
       "      <td>black</td>\n",
       "      <td>10</td>\n",
       "      <td>750</td>\n",
       "      <td>0.013333</td>\n",
       "    </tr>\n",
       "  </tbody>\n",
       "</table>\n",
       "</div>"
      ],
      "text/plain": [
       "    Agent  signups  total  signups_per_call\n",
       "4     red      117   1478          0.079161\n",
       "1    blue       15    199          0.075377\n",
       "2   green       22    339          0.064897\n",
       "3  orange       93   2234          0.041629\n",
       "0   black       10    750          0.013333"
      ]
     },
     "execution_count": 22,
     "metadata": {},
     "output_type": "execute_result"
    }
   ],
   "source": [
    "# following from question 4, assign signup to agent who made last call to lead\n",
    "\n",
    "signups_by_agent = pd.DataFrame({\n",
    "        \"total\": all_data[[\"Agent\", \"Call Number\"]].groupby(\"Agent\")[\"Call Number\"].agg(\"count\"),\n",
    "        \"signups\": last_call[[\"Agent\", \"Call Number\"]].groupby(\"Agent\")[\"Call Number\"].agg(\"count\")\n",
    "    }).reset_index()\n",
    "\n",
    "signups_by_agent[\"signups_per_call\"] = signups_by_agent[\"signups\"] / signups_by_agent[\"total\"]\n",
    "\n",
    "signups_by_agent.sort_values(\"signups_per_call\", ascending=False)"
   ]
  },
  {
   "cell_type": "markdown",
   "metadata": {},
   "source": [
    "The agent with most signups per call was agent red at 7.92%"
   ]
  },
  {
   "cell_type": "markdown",
   "metadata": {},
   "source": [
    "6 Was the variation between the agents’ signups-per-call statistically significant? Why? "
   ]
  },
  {
   "cell_type": "code",
   "execution_count": 23,
   "metadata": {},
   "outputs": [
    {
     "data": {
      "text/plain": [
       "(48.582217852739156,\n",
       " 7.136303403672277e-10,\n",
       " 4,\n",
       " array([[  37.1542705 ,  722.8457295 ],\n",
       "        [  10.46186038,  203.53813962],\n",
       "        [  17.64827849,  343.35172151],\n",
       "        [ 113.7605098 , 2213.2394902 ],\n",
       "        [  77.97508084, 1517.02491916]]))"
      ]
     },
     "execution_count": 23,
     "metadata": {},
     "output_type": "execute_result"
    }
   ],
   "source": [
    "agent_1 = signups_by_agent.iloc[0][[\"signups\", \"total\"]].values.tolist()\n",
    "agent_2 = signups_by_agent.iloc[1][[\"signups\", \"total\"]].values.tolist()\n",
    "agent_3 = signups_by_agent.iloc[2][[\"signups\", \"total\"]].values.tolist()\n",
    "agent_4 = signups_by_agent.iloc[3][[\"signups\", \"total\"]].values.tolist()\n",
    "agent_5 = signups_by_agent.iloc[4][[\"signups\", \"total\"]].values.tolist()\n",
    "\n",
    "data = [agent_1, agent_2, agent_3, agent_4, agent_5]\n",
    "stats.chi2_contingency(data)"
   ]
  },
  {
   "cell_type": "markdown",
   "metadata": {},
   "source": [
    "The pval above is much smaller than 0.05, indicating that the variation of signups-per-call between agents is not indenpentdently distributed: chi2(4) >= 48.6, p = 7.2e-10. In other words, certain agents have statistically signifcant better performance compared other agents."
   ]
  },
  {
   "cell_type": "markdown",
   "metadata": {},
   "source": [
    "7 A lead from which region is most likely to be “interested” in the product?"
   ]
  },
  {
   "cell_type": "code",
   "execution_count": 24,
   "metadata": {},
   "outputs": [
    {
     "data": {
      "text/html": [
       "<div>\n",
       "<style scoped>\n",
       "    .dataframe tbody tr th:only-of-type {\n",
       "        vertical-align: middle;\n",
       "    }\n",
       "\n",
       "    .dataframe tbody tr th {\n",
       "        vertical-align: top;\n",
       "    }\n",
       "\n",
       "    .dataframe thead th {\n",
       "        text-align: right;\n",
       "    }\n",
       "</style>\n",
       "<table border=\"1\" class=\"dataframe\">\n",
       "  <thead>\n",
       "    <tr style=\"text-align: right;\">\n",
       "      <th></th>\n",
       "      <th>Region</th>\n",
       "      <th>interested</th>\n",
       "      <th>total</th>\n",
       "      <th>prop_interested</th>\n",
       "    </tr>\n",
       "  </thead>\n",
       "  <tbody>\n",
       "    <tr>\n",
       "      <th>0</th>\n",
       "      <td>london</td>\n",
       "      <td>56</td>\n",
       "      <td>74</td>\n",
       "      <td>0.756757</td>\n",
       "    </tr>\n",
       "    <tr>\n",
       "      <th>3</th>\n",
       "      <td>north-west</td>\n",
       "      <td>365</td>\n",
       "      <td>635</td>\n",
       "      <td>0.574803</td>\n",
       "    </tr>\n",
       "    <tr>\n",
       "      <th>8</th>\n",
       "      <td>south-west</td>\n",
       "      <td>161</td>\n",
       "      <td>288</td>\n",
       "      <td>0.559028</td>\n",
       "    </tr>\n",
       "    <tr>\n",
       "      <th>7</th>\n",
       "      <td>south-east</td>\n",
       "      <td>136</td>\n",
       "      <td>290</td>\n",
       "      <td>0.468966</td>\n",
       "    </tr>\n",
       "    <tr>\n",
       "      <th>2</th>\n",
       "      <td>north-east</td>\n",
       "      <td>139</td>\n",
       "      <td>300</td>\n",
       "      <td>0.463333</td>\n",
       "    </tr>\n",
       "    <tr>\n",
       "      <th>4</th>\n",
       "      <td>northern-ireland</td>\n",
       "      <td>40</td>\n",
       "      <td>87</td>\n",
       "      <td>0.459770</td>\n",
       "    </tr>\n",
       "    <tr>\n",
       "      <th>5</th>\n",
       "      <td>scotland</td>\n",
       "      <td>137</td>\n",
       "      <td>306</td>\n",
       "      <td>0.447712</td>\n",
       "    </tr>\n",
       "    <tr>\n",
       "      <th>6</th>\n",
       "      <td>south</td>\n",
       "      <td>62</td>\n",
       "      <td>145</td>\n",
       "      <td>0.427586</td>\n",
       "    </tr>\n",
       "    <tr>\n",
       "      <th>1</th>\n",
       "      <td>midlands</td>\n",
       "      <td>150</td>\n",
       "      <td>429</td>\n",
       "      <td>0.349650</td>\n",
       "    </tr>\n",
       "    <tr>\n",
       "      <th>9</th>\n",
       "      <td>wales</td>\n",
       "      <td>50</td>\n",
       "      <td>164</td>\n",
       "      <td>0.304878</td>\n",
       "    </tr>\n",
       "  </tbody>\n",
       "</table>\n",
       "</div>"
      ],
      "text/plain": [
       "             Region  interested  total  prop_interested\n",
       "0            london          56     74         0.756757\n",
       "3        north-west         365    635         0.574803\n",
       "8        south-west         161    288         0.559028\n",
       "7        south-east         136    290         0.468966\n",
       "2        north-east         139    300         0.463333\n",
       "4  northern-ireland          40     87         0.459770\n",
       "5          scotland         137    306         0.447712\n",
       "6             south          62    145         0.427586\n",
       "1          midlands         150    429         0.349650\n",
       "9             wales          50    164         0.304878"
      ]
     },
     "execution_count": 24,
     "metadata": {},
     "output_type": "execute_result"
    }
   ],
   "source": [
    "leads_by_region = pd.DataFrame({\n",
    "                \"total\": all_data[[\"Name\", \"Region\"]].drop_duplicates().groupby(\"Region\")[\"Name\"].agg(\"count\"), \n",
    "                \"interested\": all_data[all_data[\"Call Outcome\"] == \"INTERESTED\"][[\"Name\", \"Region\"]].drop_duplicates().groupby(\"Region\")[\"Name\"].agg(\"count\")\n",
    "            }).reset_index()\n",
    "\n",
    "leads_by_region[\"prop_interested\"] = leads_by_region[\"interested\"] / leads_by_region[\"total\"]\n",
    "\n",
    "leads_by_region.sort_values(\"prop_interested\", ascending=False)"
   ]
  },
  {
   "cell_type": "markdown",
   "metadata": {},
   "source": [
    "Region with highest proportion of interested leads is London with 75.7% of leads interested."
   ]
  },
  {
   "cell_type": "markdown",
   "metadata": {},
   "source": [
    "8 A lead from which sector is most likely to be \"interested\" in the product? "
   ]
  },
  {
   "cell_type": "code",
   "execution_count": 25,
   "metadata": {},
   "outputs": [
    {
     "data": {
      "text/html": [
       "<div>\n",
       "<style scoped>\n",
       "    .dataframe tbody tr th:only-of-type {\n",
       "        vertical-align: middle;\n",
       "    }\n",
       "\n",
       "    .dataframe tbody tr th {\n",
       "        vertical-align: top;\n",
       "    }\n",
       "\n",
       "    .dataframe thead th {\n",
       "        text-align: right;\n",
       "    }\n",
       "</style>\n",
       "<table border=\"1\" class=\"dataframe\">\n",
       "  <thead>\n",
       "    <tr style=\"text-align: right;\">\n",
       "      <th></th>\n",
       "      <th>Sector</th>\n",
       "      <th>interested</th>\n",
       "      <th>total</th>\n",
       "      <th>prop_interested</th>\n",
       "    </tr>\n",
       "  </thead>\n",
       "  <tbody>\n",
       "    <tr>\n",
       "      <th>2</th>\n",
       "      <td>consultancy</td>\n",
       "      <td>301</td>\n",
       "      <td>462</td>\n",
       "      <td>0.651515</td>\n",
       "    </tr>\n",
       "    <tr>\n",
       "      <th>6</th>\n",
       "      <td>wholesale</td>\n",
       "      <td>233</td>\n",
       "      <td>396</td>\n",
       "      <td>0.588384</td>\n",
       "    </tr>\n",
       "    <tr>\n",
       "      <th>3</th>\n",
       "      <td>entertainment</td>\n",
       "      <td>135</td>\n",
       "      <td>254</td>\n",
       "      <td>0.531496</td>\n",
       "    </tr>\n",
       "    <tr>\n",
       "      <th>4</th>\n",
       "      <td>food</td>\n",
       "      <td>261</td>\n",
       "      <td>582</td>\n",
       "      <td>0.448454</td>\n",
       "    </tr>\n",
       "    <tr>\n",
       "      <th>0</th>\n",
       "      <td>agriculture</td>\n",
       "      <td>30</td>\n",
       "      <td>71</td>\n",
       "      <td>0.422535</td>\n",
       "    </tr>\n",
       "    <tr>\n",
       "      <th>5</th>\n",
       "      <td>retail</td>\n",
       "      <td>290</td>\n",
       "      <td>792</td>\n",
       "      <td>0.366162</td>\n",
       "    </tr>\n",
       "    <tr>\n",
       "      <th>1</th>\n",
       "      <td>construction</td>\n",
       "      <td>46</td>\n",
       "      <td>161</td>\n",
       "      <td>0.285714</td>\n",
       "    </tr>\n",
       "  </tbody>\n",
       "</table>\n",
       "</div>"
      ],
      "text/plain": [
       "          Sector  interested  total  prop_interested\n",
       "2    consultancy         301    462         0.651515\n",
       "6      wholesale         233    396         0.588384\n",
       "3  entertainment         135    254         0.531496\n",
       "4           food         261    582         0.448454\n",
       "0    agriculture          30     71         0.422535\n",
       "5         retail         290    792         0.366162\n",
       "1   construction          46    161         0.285714"
      ]
     },
     "execution_count": 25,
     "metadata": {},
     "output_type": "execute_result"
    }
   ],
   "source": [
    "leads_by_sector = pd.DataFrame({\n",
    "                \"total\": all_data[[\"Name\", \"Sector\"]].drop_duplicates().groupby(\"Sector\")[\"Name\"].agg(\"count\"), \n",
    "                \"interested\": all_data[all_data[\"Call Outcome\"] == \"INTERESTED\"][[\"Name\", \"Sector\"]].drop_duplicates().groupby(\"Sector\")[\"Name\"].agg(\"count\")\n",
    "            }).reset_index()\n",
    "\n",
    "leads_by_sector[\"prop_interested\"] = leads_by_sector[\"interested\"] / leads_by_sector[\"total\"]\n",
    "\n",
    "leads_by_sector.sort_values(\"prop_interested\", ascending=False)"
   ]
  },
  {
   "cell_type": "markdown",
   "metadata": {},
   "source": [
    "Sector with highest proportion of interested leads is consultancy with 65.2% of leads interested."
   ]
  },
  {
   "cell_type": "markdown",
   "metadata": {
    "collapsed": true
   },
   "source": [
    "9 Given a lead has already expressed interest and signed up, \n",
    "\n",
    "a signups from which region are most likely to be approved?\n",
    "\n",
    "b Is this statistically significant? Why?"
   ]
  },
  {
   "cell_type": "code",
   "execution_count": 26,
   "metadata": {},
   "outputs": [
    {
     "data": {
      "text/html": [
       "<div>\n",
       "<style scoped>\n",
       "    .dataframe tbody tr th:only-of-type {\n",
       "        vertical-align: middle;\n",
       "    }\n",
       "\n",
       "    .dataframe tbody tr th {\n",
       "        vertical-align: top;\n",
       "    }\n",
       "\n",
       "    .dataframe thead th {\n",
       "        text-align: right;\n",
       "    }\n",
       "</style>\n",
       "<table border=\"1\" class=\"dataframe\">\n",
       "  <thead>\n",
       "    <tr style=\"text-align: right;\">\n",
       "      <th></th>\n",
       "      <th>Region</th>\n",
       "      <th>approved</th>\n",
       "      <th>total</th>\n",
       "      <th>prop_approved</th>\n",
       "    </tr>\n",
       "  </thead>\n",
       "  <tbody>\n",
       "    <tr>\n",
       "      <th>5</th>\n",
       "      <td>scotland</td>\n",
       "      <td>37</td>\n",
       "      <td>137</td>\n",
       "      <td>0.270073</td>\n",
       "    </tr>\n",
       "    <tr>\n",
       "      <th>3</th>\n",
       "      <td>north-west</td>\n",
       "      <td>95</td>\n",
       "      <td>365</td>\n",
       "      <td>0.260274</td>\n",
       "    </tr>\n",
       "    <tr>\n",
       "      <th>7</th>\n",
       "      <td>south-east</td>\n",
       "      <td>29</td>\n",
       "      <td>136</td>\n",
       "      <td>0.213235</td>\n",
       "    </tr>\n",
       "    <tr>\n",
       "      <th>6</th>\n",
       "      <td>south</td>\n",
       "      <td>12</td>\n",
       "      <td>62</td>\n",
       "      <td>0.193548</td>\n",
       "    </tr>\n",
       "    <tr>\n",
       "      <th>1</th>\n",
       "      <td>midlands</td>\n",
       "      <td>26</td>\n",
       "      <td>150</td>\n",
       "      <td>0.173333</td>\n",
       "    </tr>\n",
       "    <tr>\n",
       "      <th>8</th>\n",
       "      <td>south-west</td>\n",
       "      <td>25</td>\n",
       "      <td>161</td>\n",
       "      <td>0.155280</td>\n",
       "    </tr>\n",
       "    <tr>\n",
       "      <th>4</th>\n",
       "      <td>northern-ireland</td>\n",
       "      <td>6</td>\n",
       "      <td>40</td>\n",
       "      <td>0.150000</td>\n",
       "    </tr>\n",
       "    <tr>\n",
       "      <th>2</th>\n",
       "      <td>north-east</td>\n",
       "      <td>20</td>\n",
       "      <td>139</td>\n",
       "      <td>0.143885</td>\n",
       "    </tr>\n",
       "    <tr>\n",
       "      <th>9</th>\n",
       "      <td>wales</td>\n",
       "      <td>5</td>\n",
       "      <td>50</td>\n",
       "      <td>0.100000</td>\n",
       "    </tr>\n",
       "    <tr>\n",
       "      <th>0</th>\n",
       "      <td>london</td>\n",
       "      <td>2</td>\n",
       "      <td>56</td>\n",
       "      <td>0.035714</td>\n",
       "    </tr>\n",
       "  </tbody>\n",
       "</table>\n",
       "</div>"
      ],
      "text/plain": [
       "             Region  approved  total  prop_approved\n",
       "5          scotland        37    137       0.270073\n",
       "3        north-west        95    365       0.260274\n",
       "7        south-east        29    136       0.213235\n",
       "6             south        12     62       0.193548\n",
       "1          midlands        26    150       0.173333\n",
       "8        south-west        25    161       0.155280\n",
       "4  northern-ireland         6     40       0.150000\n",
       "2        north-east        20    139       0.143885\n",
       "9             wales         5     50       0.100000\n",
       "0            london         2     56       0.035714"
      ]
     },
     "execution_count": 26,
     "metadata": {},
     "output_type": "execute_result"
    }
   ],
   "source": [
    "interested = all_data[all_data[\"Call Outcome\"] == \"INTERESTED\"]\n",
    "\n",
    "approval_by_region = pd.DataFrame({\n",
    "                \"total\": interested[[\"Name\", \"Region\"]].drop_duplicates().groupby(\"Region\")[\"Name\"].agg(\"count\"), \n",
    "                \"approved\": interested[interested[\"Approval Decision\"] == \"APPROVED\"][[\"Name\", \"Region\"]].drop_duplicates().groupby(\"Region\")[\"Name\"].agg(\"count\")\n",
    "            }).reset_index()\n",
    "\n",
    "approval_by_region[\"prop_approved\"] = approval_by_region[\"approved\"] / approval_by_region[\"total\"]\n",
    "\n",
    "approval_by_region.sort_values(\"prop_approved\", ascending=False)"
   ]
  },
  {
   "cell_type": "markdown",
   "metadata": {},
   "source": [
    "Signups from Scotland are most likely to be approved"
   ]
  },
  {
   "cell_type": "code",
   "execution_count": 27,
   "metadata": {},
   "outputs": [
    {
     "name": "stdout",
     "output_type": "stream",
     "text": [
      "2.2279110466972245 0.025886447392087147\n"
     ]
    }
   ],
   "source": [
    "# compared between Scotland and all other regions\n",
    "\n",
    "count = [\n",
    "    approval_by_region[approval_by_region[\"Region\"] == \"scotland\"][\"approved\"].values[0],\n",
    "    approval_by_region[approval_by_region[\"Region\"] != \"scotland\"][\"approved\"].sum()\n",
    "]\n",
    "\n",
    "nobs = [\n",
    "    approval_by_region[approval_by_region[\"Region\"] == \"scotland\"][\"total\"].values[0],\n",
    "    approval_by_region[approval_by_region[\"Region\"] != \"scotland\"][\"total\"].sum()\n",
    "]\n",
    "\n",
    "zstat, pval = proportions_ztest(count, nobs)\n",
    "print(zstat, pval)"
   ]
  },
  {
   "cell_type": "code",
   "execution_count": 28,
   "metadata": {},
   "outputs": [
    {
     "data": {
      "text/plain": [
       "0.9870567763039564"
      ]
     },
     "execution_count": 28,
     "metadata": {},
     "output_type": "execute_result"
    }
   ],
   "source": [
    "stats.norm.cdf(zstat)"
   ]
  },
  {
   "cell_type": "code",
   "execution_count": 29,
   "metadata": {},
   "outputs": [
    {
     "data": {
      "text/plain": [
       "1.959963984540054"
      ]
     },
     "execution_count": 29,
     "metadata": {},
     "output_type": "execute_result"
    }
   ],
   "source": [
    "stats.norm.ppf(1-(0.05/2))"
   ]
  },
  {
   "cell_type": "markdown",
   "metadata": {},
   "source": [
    "The z-score of 2.22 is large than the critical value at 95% confidence of 1.96, indicating that there was a larger proportion of signups in Scotland compared to other regions, which is statistically significant given that pval < 0.05."
   ]
  },
  {
   "cell_type": "markdown",
   "metadata": {},
   "source": [
    "10 Suppose you wanted to pick the 1000 leads most likely to sign up (who have not been called so far), based only on age, sector and region."
   ]
  },
  {
   "cell_type": "markdown",
   "metadata": {},
   "source": [
    "a What criteria would you use to pick those leads"
   ]
  },
  {
   "cell_type": "code",
   "execution_count": 30,
   "metadata": {},
   "outputs": [],
   "source": [
    "# based on the features listed above (age, sector, and region) want to find historic data of leads who have gone on\n",
    "# to signup with an approval decision of \"approved\".\n",
    "# the target label in this case is the \"Approval Decision\" from the signups table\n",
    "\n",
    "# historic data of leads who have been called and feature on the signup table form the training dataset\n",
    "historic_data = all_data[~all_data[\"Approval Decision\"].isnull()][[\"Name\", \"Region\", \"Sector\", \"Age\", \"Approval Decision\"]].drop_duplicates()\n",
    "\n",
    "# age is a numeric feature\n",
    "# sector and region are categorical so need to be converted into dummy variables\n",
    "historic_data = pd.get_dummies(historic_data, columns=['Region', 'Sector'])\n",
    "\n",
    "# need to convert \"Approval Decision\" into binary values\n",
    "historic_data[\"Approval Decision\"] = historic_data[\"Approval Decision\"].apply(lambda d: 1 if d == \"APPROVED\" else 0)\n",
    "\n",
    "# \"Name\" was just required to remove duplicates\n",
    "historic_data = historic_data.drop(\"Name\", axis=1)\n",
    "\n",
    "X = historic_data.drop(\"Approval Decision\", axis=1)\n",
    "y = historic_data[\"Approval Decision\"]\n",
    "\n",
    "X_train, X_test, y_train, y_test = train_test_split(X, y, stratify=y, test_size=0.3, random_state=34)\n",
    "\n",
    "# perform normalisation for ages feature\n",
    "scaler = MinMaxScaler(feature_range = (0,1))\n",
    "scaler.fit(X_train)\n",
    "X_train = scaler.transform(X_train)\n",
    "X_test = scaler.transform(X_test)\n",
    "\n",
    "clf = LogisticRegression(random_state=34)\n",
    "\n",
    "# select k best features using chi-squared test statistic\n",
    "# choose k which maximised chosen evaluation metric of choice, which was precision - see below for discussion\n",
    "# for sake of time I just ran this multiple times to find smallest k that maximised precision\n",
    "selector = SelectKBest(chi2, k=8)\n",
    "\n",
    "log = make_pipeline(selector, clf)\n",
    "log.fit(X_train, y_train)\n",
    "y_pred = log.predict(X_test)"
   ]
  },
  {
   "cell_type": "code",
   "execution_count": 31,
   "metadata": {},
   "outputs": [
    {
     "name": "stdout",
     "output_type": "stream",
     "text": [
      "['Region_london', 'Region_north-west', 'Region_scotland', 'Region_wales', 'Sector_construction', 'Sector_consultancy', 'Sector_retail', 'Sector_wholesale']\n"
     ]
    }
   ],
   "source": [
    "# find names of selected features\n",
    "selected_features = []\n",
    "\n",
    "for tf, feature in zip(selector.get_support(), X.columns.values):\n",
    "    if tf:\n",
    "        selected_features.append(feature)\n",
    "\n",
    "print(selected_features)"
   ]
  },
  {
   "cell_type": "code",
   "execution_count": 32,
   "metadata": {},
   "outputs": [
    {
     "data": {
      "text/plain": [
       "0    357\n",
       "1    180\n",
       "Name: Approval Decision, dtype: int64"
      ]
     },
     "execution_count": 32,
     "metadata": {},
     "output_type": "execute_result"
    }
   ],
   "source": [
    "# as the target classes are imbalanced makes sense not to use accuracy\n",
    "y_train.value_counts()"
   ]
  },
  {
   "cell_type": "code",
   "execution_count": 33,
   "metadata": {},
   "outputs": [
    {
     "name": "stdout",
     "output_type": "stream",
     "text": [
      "0.7257309941520468\n"
     ]
    }
   ],
   "source": [
    "# I think for the purpose of the assignmnent, it makes sense to optimise for precision\n",
    "# this is because we want to maximise the chance that an identified lead will actually\n",
    "# sign up.\n",
    "precision, recall, fscore, _ = precision_recall_fscore_support(y_test, y_pred, average='weighted', labels=np.unique(y_pred))\n",
    "\n",
    "# i.e. approx. 3 out of every 4 leads correctly identified as going on to complete\n",
    "print(precision)"
   ]
  },
  {
   "cell_type": "markdown",
   "metadata": {
    "collapsed": true
   },
   "source": [
    "b In what sense are those an optimal criteria set?"
   ]
  },
  {
   "cell_type": "markdown",
   "metadata": {},
   "source": [
    "The set of k best features, according to chi-squared test, which were found to maximise the precision, the chosen evaluation metric."
   ]
  },
  {
   "attachments": {},
   "cell_type": "markdown",
   "metadata": {},
   "source": [
    "c How many signups would you expect to get based on those called leads, assuming they were being called by random agents?"
   ]
  },
  {
   "cell_type": "code",
   "execution_count": 34,
   "metadata": {},
   "outputs": [
    {
     "data": {
      "text/plain": [
       "array([[0.19909361, 0.80090639],\n",
       "       [0.19909361, 0.80090639],\n",
       "       [0.19909361, 0.80090639],\n",
       "       ...,\n",
       "       [0.38798826, 0.61201174],\n",
       "       [0.38798826, 0.61201174],\n",
       "       [0.38798826, 0.61201174]])"
      ]
     },
     "execution_count": 34,
     "metadata": {},
     "output_type": "execute_result"
    }
   ],
   "source": [
    "# look at leads who have not been called\n",
    "leads_to_target = all_data[all_data[\"Approval Decision\"].isnull()][[\"Age\", \"Sector\", \"Region\"]]\n",
    "leads_to_target = pd.get_dummies(leads_to_target, columns=['Region', 'Sector'])\n",
    "leads_to_target = leads_to_target[selected_features]\n",
    "\n",
    "# get predicted probability for all classes\n",
    "predictions = clf.predict_proba(leads_to_target)\n",
    "\n",
    "predictions[predictions[:,0].argsort()][:1000]"
   ]
  },
  {
   "cell_type": "markdown",
   "metadata": {},
   "source": [
    "From above, find that the top 1000 leads most likely to signup - by predicted probability class - are more likely to signup than not. Or in other words, according the the classifier, there exists a subset of at least 1000 leads who are predicted to signup."
   ]
  },
  {
   "cell_type": "markdown",
   "metadata": {},
   "source": [
    "d If you could choose the agents to make those calls, who would you choose? Why?"
   ]
  },
  {
   "cell_type": "markdown",
   "metadata": {},
   "source": [
    "Without making further assumptions about how a given agent performs in relation to the criteria found above, I would choose agents red and blue as they achieved a significantly higher signup rate than other agents. This is based on their performance in historic data."
   ]
  },
  {
   "cell_type": "code",
   "execution_count": null,
   "metadata": {
    "collapsed": true
   },
   "outputs": [],
   "source": []
  }
 ],
 "metadata": {
  "kernelspec": {
   "display_name": "Python 3",
   "language": "python",
   "name": "python3"
  },
  "language_info": {
   "codemirror_mode": {
    "name": "ipython",
    "version": 3
   },
   "file_extension": ".py",
   "mimetype": "text/x-python",
   "name": "python",
   "nbconvert_exporter": "python",
   "pygments_lexer": "ipython3",
   "version": "3.6.4"
  }
 },
 "nbformat": 4,
 "nbformat_minor": 2
}
